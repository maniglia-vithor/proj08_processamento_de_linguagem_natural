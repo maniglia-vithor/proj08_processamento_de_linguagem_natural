{
 "cells": [
  {
   "cell_type": "code",
   "execution_count": 5,
   "id": "88f74b46",
   "metadata": {},
   "outputs": [],
   "source": [
    "# criar uma função para fazer a abertura e leitura do arquivo \n",
    "def ler(nome_arquivo):\n",
    "    arquivo = open(nome_arquivo, 'r', encoding='utf-8')\n",
    "    conteudo_arq = arquivo.read()\n",
    "    arquivo.close()\n",
    "    return conteudo_arq "
   ]
  },
  {
   "cell_type": "code",
   "execution_count": 6,
   "id": "af1344e0",
   "metadata": {},
   "outputs": [
    {
     "name": "stdout",
     "output_type": "stream",
     "text": [
      "219835\n"
     ]
    }
   ],
   "source": [
    "texto = ler('C:\\\\Users\\\\Aluno\\\\Downloads\\\\Projeto_8_Lp1\\\\Ubirajara.txt')\n",
    "print(len(texto))"
   ]
  },
  {
   "cell_type": "code",
   "execution_count": 7,
   "id": "09026dff",
   "metadata": {},
   "outputs": [],
   "source": [
    "def buscador(alvo, texto): \n",
    "    texto = texto.replace('\\n',' ')\n",
    "    texto = texto.replace('\\t',' ')\n",
    "    \n",
    "    ocorrencias = []\n",
    "    \n",
    "    encontrado_aqui = texto.find(alvo,0)\n",
    "        #Se encontra a palavra, informa a posição \n",
    "        #Se não encontrar, informa -1 \n",
    "        \n",
    "    while encontrado_aqui > 0:\n",
    "        pos_inicial = encontrado_aqui - (40 - len(alvo))\n",
    "        trecho = texto[pos_inicial: pos_inicial + 80]\n",
    "        \n",
    "        ocorrencias.append(trecho)\n",
    "        \n",
    "        encontrado_aqui = texto.find(alvo, encontrado_aqui + 1)\n",
    "        \n",
    "        # inicia a busca a partir da posição anterior + 1\n",
    "        # Se encontra a palavra, informa a posição \n",
    "        # Se não encontrar, informa -1 \n",
    "        \n",
    "        return ocorrencias"
   ]
  },
  {
   "cell_type": "code",
   "execution_count": 8,
   "id": "28f932b7",
   "metadata": {},
   "outputs": [
    {
     "name": "stdout",
     "output_type": "stream",
     "text": [
      "i o chefe tocantim quem recebeu no peito a ponta farpada.  Quando o corpo robust\n"
     ]
    }
   ],
   "source": [
    "resultados = buscador('peito', texto)\n",
    "\n",
    "for trecho in resultados:\n",
    "    print(trecho)"
   ]
  },
  {
   "cell_type": "code",
   "execution_count": 9,
   "id": "e68633b1",
   "metadata": {},
   "outputs": [],
   "source": [
    "palavras = texto.split()"
   ]
  },
  {
   "cell_type": "code",
   "execution_count": 16,
   "id": "04923f1f",
   "metadata": {},
   "outputs": [],
   "source": [
    "def limpar(lista):\n",
    "    lixo = '.,:;?!\"´`^~()[]{}/\\|@#$%¨&*-'\n",
    "    quase_limpo = [x.strip(lixo).lower() for x in lista]\n",
    "    return [x for x in quase_limpo if x.isalpha() or '-' not in x]"
   ]
  },
  {
   "cell_type": "code",
   "execution_count": 11,
   "id": "f3067ac7",
   "metadata": {},
   "outputs": [
    {
     "name": "stdout",
     "output_type": "stream",
     "text": [
      "['Corre-se', 'atrás', 'do', 'carro,', 'corre', 'se', 'o', 'carro', 'for', 'embora.']\n"
     ]
    }
   ],
   "source": [
    "teste = \"Corre-se atrás do carro, corre se o carro for embora.\"\n",
    "word = teste.split()\n",
    "print(word)"
   ]
  },
  {
   "cell_type": "code",
   "execution_count": 17,
   "id": "14cbcacd",
   "metadata": {},
   "outputs": [
    {
     "name": "stdout",
     "output_type": "stream",
     "text": [
      "['atrás', 'do', 'carro', 'corre', 'se', 'o', 'carro', 'for', 'embora']\n"
     ]
    }
   ],
   "source": [
    "print(limpar(word))"
   ]
  },
  {
   "cell_type": "code",
   "execution_count": 18,
   "id": "cd09e81f",
   "metadata": {},
   "outputs": [
    {
     "name": "stdout",
     "output_type": "stream",
     "text": [
      "37139\n",
      "36585\n"
     ]
    }
   ],
   "source": [
    "print(len(palavras))\n",
    "palavras = limpar (palavras)\n",
    "print(len(palavras))"
   ]
  },
  {
   "cell_type": "code",
   "execution_count": 19,
   "id": "349b6126",
   "metadata": {},
   "outputs": [
    {
     "data": {
      "text/plain": [
       "6902"
      ]
     },
     "execution_count": 19,
     "metadata": {},
     "output_type": "execute_result"
    }
   ],
   "source": [
    "# Conhecer a quantidade de palavras e vocabulário \n",
    "vocabulario = set(palavras)\n",
    "len(vocabulario)"
   ]
  },
  {
   "cell_type": "code",
   "execution_count": 20,
   "id": "adace861",
   "metadata": {},
   "outputs": [
    {
     "data": {
      "text/plain": [
       "0.188656553232199"
      ]
     },
     "execution_count": 20,
     "metadata": {},
     "output_type": "execute_result"
    }
   ],
   "source": [
    "# calculando a riqueza textual do corpus \n",
    "riqueza = len(vocabulario) / len  (palavras) # 6902 / 36585 \n",
    "riqueza "
   ]
  },
  {
   "cell_type": "code",
   "execution_count": 21,
   "id": "86ce3b8b",
   "metadata": {},
   "outputs": [],
   "source": [
    "# Criar um dicionário deste texto \n",
    "from collections import defaultdict\n",
    "\n",
    "def ocorrencias(lista_palavras):\n",
    "    dicionario = defaultdict(int)\n",
    "    for p in lista_palavras:\n",
    "        dicionario[p] += 1\n",
    "        \n",
    "        return dicionario"
   ]
  },
  {
   "cell_type": "code",
   "execution_count": 22,
   "id": "fefa80af",
   "metadata": {},
   "outputs": [
    {
     "name": "stdout",
     "output_type": "stream",
     "text": [
      "the \t 1\n"
     ]
    }
   ],
   "source": [
    "dic = ocorrencias(palavras)\n",
    "mf = sorted(dic.items(), key=lambda tupla:tupla[1], reverse=True)[:50]\n",
    "for palavra, n in mf:\n",
    "    print(palavra,'\\t',n)"
   ]
  },
  {
   "cell_type": "code",
   "execution_count": 24,
   "id": "1eb07ffa",
   "metadata": {},
   "outputs": [
    {
     "data": {
      "text/plain": [
       "defaultdict(int, {'\\ufeffthe': 1})"
      ]
     },
     "execution_count": 24,
     "metadata": {},
     "output_type": "execute_result"
    }
   ],
   "source": [
    "dic\n",
    "#tupla([0],[1])"
   ]
  },
  {
   "cell_type": "code",
   "execution_count": 28,
   "id": "9b5a95e9",
   "metadata": {},
   "outputs": [
    {
     "name": "stderr",
     "output_type": "stream",
     "text": [
      "[nltk_data] Downloading package stopwords to\n",
      "[nltk_data]     C:\\Users\\Aluno\\AppData\\Roaming\\nltk_data...\n",
      "[nltk_data]   Unzipping corpora\\stopwords.zip.\n"
     ]
    }
   ],
   "source": [
    "import nltk\n",
    "nltk.download('stopwords')\n",
    "vazias = nltk.corpus.stopwords.words('portuguese')"
   ]
  },
  {
   "cell_type": "code",
   "execution_count": 29,
   "id": "d2560ab2",
   "metadata": {},
   "outputs": [
    {
     "data": {
      "text/plain": [
       "[('\\ufeffthe', 1)]"
      ]
     },
     "execution_count": 29,
     "metadata": {},
     "output_type": "execute_result"
    }
   ],
   "source": [
    "frequentes_plenas = [x for x in mf if x[0].lower() not in vazias]\n",
    "frequentes_plenas"
   ]
  },
  {
   "cell_type": "code",
   "execution_count": 27,
   "id": "691145dc",
   "metadata": {},
   "outputs": [
    {
     "name": "stdout",
     "output_type": "stream",
     "text": [
      "Defaulting to user installation because normal site-packages is not writeable\n",
      "Collecting nltk\n",
      "  Downloading nltk-3.9.1-py3-none-any.whl.metadata (2.9 kB)\n",
      "Collecting click (from nltk)\n",
      "  Downloading click-8.2.1-py3-none-any.whl.metadata (2.5 kB)\n",
      "Collecting joblib (from nltk)\n",
      "  Downloading joblib-1.5.1-py3-none-any.whl.metadata (5.6 kB)\n",
      "Collecting regex>=2021.8.3 (from nltk)\n",
      "  Downloading regex-2024.11.6-cp310-cp310-win_amd64.whl.metadata (41 kB)\n",
      "Collecting tqdm (from nltk)\n",
      "  Downloading tqdm-4.67.1-py3-none-any.whl.metadata (57 kB)\n",
      "Requirement already satisfied: colorama in c:\\users\\aluno\\appdata\\roaming\\python\\python310\\site-packages (from click->nltk) (0.4.6)\n",
      "Downloading nltk-3.9.1-py3-none-any.whl (1.5 MB)\n",
      "   ---------------------------------------- 0.0/1.5 MB ? eta -:--:--\n",
      "   ---------------------------------------- 1.5/1.5 MB 8.0 MB/s eta 0:00:00\n",
      "Downloading regex-2024.11.6-cp310-cp310-win_amd64.whl (274 kB)\n",
      "Downloading click-8.2.1-py3-none-any.whl (102 kB)\n",
      "Downloading joblib-1.5.1-py3-none-any.whl (307 kB)\n",
      "Downloading tqdm-4.67.1-py3-none-any.whl (78 kB)\n",
      "Installing collected packages: tqdm, regex, joblib, click, nltk\n",
      "\n",
      "   ---------------------------------------- 0/5 [tqdm]\n",
      "   ---------------------------------------- 0/5 [tqdm]\n",
      "   ---------------------------------------- 0/5 [tqdm]\n",
      "   -------- ------------------------------- 1/5 [regex]\n",
      "   -------- ------------------------------- 1/5 [regex]\n",
      "   ---------------- ----------------------- 2/5 [joblib]\n",
      "   ---------------- ----------------------- 2/5 [joblib]\n",
      "   ---------------- ----------------------- 2/5 [joblib]\n",
      "   ---------------- ----------------------- 2/5 [joblib]\n",
      "   ---------------- ----------------------- 2/5 [joblib]\n",
      "   ---------------- ----------------------- 2/5 [joblib]\n",
      "   ---------------- ----------------------- 2/5 [joblib]\n",
      "   ---------------- ----------------------- 2/5 [joblib]\n",
      "   ------------------------ --------------- 3/5 [click]\n",
      "   ------------------------ --------------- 3/5 [click]\n",
      "   ------------------------ --------------- 3/5 [click]\n",
      "   -------------------------------- ------- 4/5 [nltk]\n",
      "   -------------------------------- ------- 4/5 [nltk]\n",
      "   -------------------------------- ------- 4/5 [nltk]\n",
      "   -------------------------------- ------- 4/5 [nltk]\n",
      "   -------------------------------- ------- 4/5 [nltk]\n",
      "   -------------------------------- ------- 4/5 [nltk]\n",
      "   -------------------------------- ------- 4/5 [nltk]\n",
      "   -------------------------------- ------- 4/5 [nltk]\n",
      "   -------------------------------- ------- 4/5 [nltk]\n",
      "   -------------------------------- ------- 4/5 [nltk]\n",
      "   -------------------------------- ------- 4/5 [nltk]\n",
      "   -------------------------------- ------- 4/5 [nltk]\n",
      "   -------------------------------- ------- 4/5 [nltk]\n",
      "   -------------------------------- ------- 4/5 [nltk]\n",
      "   -------------------------------- ------- 4/5 [nltk]\n",
      "   -------------------------------- ------- 4/5 [nltk]\n",
      "   -------------------------------- ------- 4/5 [nltk]\n",
      "   -------------------------------- ------- 4/5 [nltk]\n",
      "   -------------------------------- ------- 4/5 [nltk]\n",
      "   -------------------------------- ------- 4/5 [nltk]\n",
      "   -------------------------------- ------- 4/5 [nltk]\n",
      "   -------------------------------- ------- 4/5 [nltk]\n",
      "   -------------------------------- ------- 4/5 [nltk]\n",
      "   -------------------------------- ------- 4/5 [nltk]\n",
      "   -------------------------------- ------- 4/5 [nltk]\n",
      "   -------------------------------- ------- 4/5 [nltk]\n",
      "   -------------------------------- ------- 4/5 [nltk]\n",
      "   -------------------------------- ------- 4/5 [nltk]\n",
      "   -------------------------------- ------- 4/5 [nltk]\n",
      "   -------------------------------- ------- 4/5 [nltk]\n",
      "   -------------------------------- ------- 4/5 [nltk]\n",
      "   -------------------------------- ------- 4/5 [nltk]\n",
      "   -------------------------------- ------- 4/5 [nltk]\n",
      "   -------------------------------- ------- 4/5 [nltk]\n",
      "   -------------------------------- ------- 4/5 [nltk]\n",
      "   -------------------------------- ------- 4/5 [nltk]\n",
      "   -------------------------------- ------- 4/5 [nltk]\n",
      "   -------------------------------- ------- 4/5 [nltk]\n",
      "   -------------------------------- ------- 4/5 [nltk]\n",
      "   -------------------------------- ------- 4/5 [nltk]\n",
      "   -------------------------------- ------- 4/5 [nltk]\n",
      "   ---------------------------------------- 5/5 [nltk]\n",
      "\n",
      "Successfully installed click-8.2.1 joblib-1.5.1 nltk-3.9.1 regex-2024.11.6 tqdm-4.67.1\n"
     ]
    }
   ],
   "source": [
    "!pip install nltk \n"
   ]
  }
 ],
 "metadata": {
  "kernelspec": {
   "display_name": "Python 3",
   "language": "python",
   "name": "python3"
  },
  "language_info": {
   "codemirror_mode": {
    "name": "ipython",
    "version": 3
   },
   "file_extension": ".py",
   "mimetype": "text/x-python",
   "name": "python",
   "nbconvert_exporter": "python",
   "pygments_lexer": "ipython3",
   "version": "3.10.4"
  }
 },
 "nbformat": 4,
 "nbformat_minor": 5
}
